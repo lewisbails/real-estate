{
 "cells": [
  {
   "cell_type": "markdown",
   "metadata": {},
   "source": [
    "# Causal Inference with CEM and Weighted Regression"
   ]
  },
  {
   "cell_type": "code",
   "execution_count": null,
   "metadata": {},
   "outputs": [],
   "source": [
    "import os\n",
    "from datetime import datetime, timedelta\n",
    "\n",
    "import pandas as pd\n",
    "import numpy as np\n",
    "import statsmodels.api as sm\n",
    "import seaborn as sns\n",
    "import matplotlib.pyplot as plt\n",
    "from cem import CEM\n",
    "from pymongo.mongo_client import MongoClient\n",
    "from pymongo.server_api import ServerApi"
   ]
  },
  {
   "cell_type": "code",
   "execution_count": null,
   "metadata": {},
   "outputs": [],
   "source": [
    "uri = os.environ[\"MONGODB_URI\"]\n",
    "client = MongoClient(uri, server_api=ServerApi(\"1\"))\n",
    "client.admin.command(\"ping\")\n",
    "db = client[\"real-estate\"]\n",
    "collection = db[\"listings\"]"
   ]
  },
  {
   "cell_type": "code",
   "execution_count": null,
   "metadata": {},
   "outputs": [],
   "source": [
    "since = datetime.now() - timedelta(days=30)\n",
    "\n",
    "pipeline = [\n",
    "        {\n",
    "            \"$match\": {\"rental\": True, \"datetime\": {\"$gte\": since}},\n",
    "        },\n",
    "    ]\n",
    "\n",
    "results = collection.aggregate(pipeline)\n",
    "\n",
    "df = pd.DataFrame.from_records(results).set_index(\"_id\")\n",
    "df.head()"
   ]
  },
  {
   "cell_type": "code",
   "execution_count": null,
   "metadata": {},
   "outputs": [],
   "source": [
    "df = df[[\"price\", \"bed\", \"bath\"]]\n",
    "df.head()"
   ]
  },
  {
   "cell_type": "code",
   "execution_count": null,
   "metadata": {},
   "outputs": [],
   "source": [
    "c = CEM(df, treatment=\"bed\", outcome=\"price\")\n",
    "c.imbalance()"
   ]
  },
  {
   "cell_type": "code",
   "execution_count": null,
   "metadata": {},
   "outputs": [],
   "source": [
    "schema = {\n",
    "    \"bed\": (\"cut\", {\"bins\": df[\"bed\"].nunique()}),\n",
    "    \"bath\": (\"cut\", {\"bins\": df[\"bath\"].nunique()}),\n",
    "}\n",
    "c.imbalance(schema)"
   ]
  },
  {
   "cell_type": "code",
   "execution_count": null,
   "metadata": {},
   "outputs": [],
   "source": [
    "weights = c.match(schema)\n",
    "print(np.isclose(weights, 0).sum(), f\"/{len(weights)} examples effectively discarded\")"
   ]
  },
  {
   "cell_type": "code",
   "execution_count": null,
   "metadata": {},
   "outputs": [],
   "source": [
    "plt.grid()\n",
    "sns.scatterplot(data=df, x=\"bed\", y=\"bath\", legend=False)"
   ]
  },
  {
   "cell_type": "code",
   "execution_count": null,
   "metadata": {},
   "outputs": [],
   "source": [
    "df[\"weight\"] = weights\n",
    "plt.grid()\n",
    "sns.scatterplot(data=df, x=\"bed\", y=\"bath\", size=\"weight\", legend=False)"
   ]
  },
  {
   "cell_type": "code",
   "execution_count": null,
   "metadata": {},
   "outputs": [],
   "source": [
    "# TODO: coarsening for string columns, then one-hot encoding for regression"
   ]
  },
  {
   "cell_type": "code",
   "execution_count": null,
   "metadata": {},
   "outputs": [],
   "source": [
    "y = df[\"price\"]\n",
    "X = df[[\"bed\", \"bath\"]].to_numpy()\n",
    "X = sm.add_constant(X)\n",
    "\n",
    "model = sm.WLS(y, X, weights=weights, hasconst=True)\n",
    "model.exog_names[:] = [\"constant\", \"bed\", \"bath\"]\n",
    "results = model.fit()"
   ]
  },
  {
   "cell_type": "code",
   "execution_count": null,
   "metadata": {},
   "outputs": [],
   "source": [
    "results.summary()"
   ]
  },
  {
   "cell_type": "code",
   "execution_count": null,
   "metadata": {},
   "outputs": [],
   "source": [
    "# residuals"
   ]
  }
 ],
 "metadata": {
  "kernelspec": {
   "display_name": "real-estate-53Vs7j0A-py3.9",
   "language": "python",
   "name": "python3"
  },
  "language_info": {
   "codemirror_mode": {
    "name": "ipython",
    "version": 3
   },
   "file_extension": ".py",
   "mimetype": "text/x-python",
   "name": "python",
   "nbconvert_exporter": "python",
   "pygments_lexer": "ipython3",
   "version": "3.9.11"
  }
 },
 "nbformat": 4,
 "nbformat_minor": 2
}
