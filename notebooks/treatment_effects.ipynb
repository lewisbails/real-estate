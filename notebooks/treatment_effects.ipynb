{
 "cells": [
  {
   "cell_type": "markdown",
   "metadata": {},
   "source": [
    "# Causal Inference with CEM and Weighted Regression"
   ]
  },
  {
   "cell_type": "code",
   "execution_count": null,
   "metadata": {},
   "outputs": [],
   "source": [
    "import warnings\n",
    "warnings.simplefilter(action='ignore', category=FutureWarning)\n",
    "\n",
    "import os\n",
    "from datetime import datetime, timedelta\n",
    "\n",
    "import pandas as pd\n",
    "import numpy as np\n",
    "import statsmodels.api as sm\n",
    "import seaborn as sns\n",
    "import matplotlib.pyplot as plt\n",
    "from cem import match\n",
    "from cem import coarsen\n",
    "from cem.imbalance import L1\n",
    "from pymongo.mongo_client import MongoClient\n",
    "from pymongo.server_api import ServerApi"
   ]
  },
  {
   "cell_type": "code",
   "execution_count": null,
   "metadata": {},
   "outputs": [],
   "source": [
    "uri = os.environ[\"MONGODB_URI\"]\n",
    "client = MongoClient(uri, server_api=ServerApi(\"1\"))\n",
    "client.admin.command(\"ping\")\n",
    "db = client[\"real-estate\"]\n",
    "collection = db[\"listings\"]"
   ]
  },
  {
   "cell_type": "code",
   "execution_count": null,
   "metadata": {},
   "outputs": [],
   "source": [
    "since = datetime.now() - timedelta(days=30)\n",
    "\n",
    "pipeline = [\n",
    "        {\n",
    "            \"$match\": {\"rental\": True, \"datetime\": {\"$gte\": since}, \"bed\": {\"$lte\": 4}},\n",
    "        },\n",
    "    ]\n",
    "\n",
    "results = collection.aggregate(pipeline)\n",
    "\n",
    "df = pd.DataFrame.from_records(results).set_index(\"_id\")\n",
    "df.head()"
   ]
  },
  {
   "cell_type": "code",
   "execution_count": null,
   "metadata": {},
   "outputs": [],
   "source": [
    "df.describe()"
   ]
  },
  {
   "cell_type": "code",
   "execution_count": null,
   "metadata": {},
   "outputs": [],
   "source": [
    "df[[\"bed\", \"bath\", \"parking\"]].cov()"
   ]
  },
  {
   "cell_type": "code",
   "execution_count": null,
   "metadata": {},
   "outputs": [],
   "source": [
    "df[\"council\"].value_counts()"
   ]
  },
  {
   "cell_type": "code",
   "execution_count": null,
   "metadata": {},
   "outputs": [],
   "source": [
    "councils = {\n",
    "    \"city of playford\": \"north\",\n",
    "    \"city of port adelaide enfield\": \"north\",\n",
    "    \"city of charles sturt\": \"west\",\n",
    "    \"city of salisbury\": \"north\",\n",
    "    \"corporation of the city of adelaide\": \"inner\",\n",
    "    \"corporation of the city of unley\": \"inner\",\n",
    "    \"city of marion\": \"south\",\n",
    "    \"city of onkaparinga\": \"south\",\n",
    "    \"city of campelltown\": \"east\",\n",
    "    \"city of norwood payneham & st peters\": \"inner\",\n",
    "    \"city of west torrens\": \"west\",\n",
    "    \"city of tea tree gully\": \"north\",\n",
    "    \"city of burnside\": \"east\",\n",
    "    \"city of holdfast bay\": \"west\",\n",
    "    \"mount barker district council\": \"hills\",\n",
    "    \"city of prospect & city of port adelaide enfield\": \"north\",\n",
    "    \"corporation of the town of walkerville\": \"inner\",\n",
    "    \"city of mitcham\": \"south\",\n",
    "    \"city of prospect\": \"inner\",\n",
    "    \"adelaide hills council\": \"hills\",\n",
    "    \"town of gawler\": \"outer\",\n",
    "    \"the barossa council\": \"outer\",\n",
    "    \"city of port adelaide enfield & city of tea tree gully\": \"north\"\n",
    "}"
   ]
  },
  {
   "cell_type": "code",
   "execution_count": null,
   "metadata": {},
   "outputs": [],
   "source": [
    "y = df[\"price\"]\n",
    "X = df.drop(columns=\"price\")[[\"bed\", \"bath\", \"parking\", \"council\", \"dwelling\"]]"
   ]
  },
  {
   "cell_type": "code",
   "execution_count": null,
   "metadata": {},
   "outputs": [],
   "source": [
    "# no matching\n",
    "L1(X, \"bed\")\n",
    "# very imbalanced"
   ]
  },
  {
   "cell_type": "code",
   "execution_count": null,
   "metadata": {},
   "outputs": [],
   "source": [
    "# exact matching\n",
    "# throw away examples from strata (defined by council, dwelling, bath and parking) that do not contain all levels of the treatment (number of beds)\n",
    "weights = match(X, \"bed\")\n",
    "\n",
    "print(f\"{(weights > 0).sum()} observations remain. Threw away {(weights == 0).sum()}\")\n",
    "\n",
    "L1(X, \"bed\", weights)\n",
    "# no examples left.."
   ]
  },
  {
   "cell_type": "code",
   "execution_count": null,
   "metadata": {},
   "outputs": [],
   "source": [
    "# coarsened exact matching\n",
    "# throw away examples from strata (defined by COARSENED council, dwelling, bath and parking) that do not contain all levels of the treatment (number of beds)\n",
    "X_coarse = X.copy()\n",
    "\n",
    "X_coarse[\"council\"] = X_coarse[\"council\"].map(councils)  # north, south, east, west, inner, hills, outer\n",
    "X_coarse[\"parking\"] = X_coarse[\"parking\"] > 0  # yes or no\n",
    "X_coarse[\"bath\"] = pd.cut(X_coarse[\"bath\"], bins=[-1, 1, 2, 100])  # 1, 2, 3+\n",
    "\n",
    "weights = match(X_coarse, \"bed\")\n",
    "X_coarse = X_coarse.loc[weights.index]  # not necessary, but it supresses that warning\n",
    "\n",
    "print(f\"{(weights > 0).sum()} observations remain. Threw away {(weights == 0).sum()}\")\n",
    "\n",
    "L1(X_coarse, \"bed\", weights)"
   ]
  },
  {
   "cell_type": "code",
   "execution_count": null,
   "metadata": {},
   "outputs": [],
   "source": [
    "X_coarse[weights > 0].sort_values([\"council\", \"dwelling\", \"bath\", \"parking\", \"bed\"]).head(20)"
   ]
  },
  {
   "cell_type": "code",
   "execution_count": null,
   "metadata": {},
   "outputs": [],
   "source": [
    "print(X_coarse[weights > 0][\"dwelling\"].value_counts())\n",
    "print(X_coarse[weights > 0][\"council\"].value_counts())\n",
    "print(X_coarse[weights > 0][\"parking\"].value_counts())\n",
    "print(X_coarse[weights > 0][\"bath\"].value_counts())"
   ]
  },
  {
   "cell_type": "code",
   "execution_count": null,
   "metadata": {},
   "outputs": [],
   "source": [
    "# after coarsened matching, there is very little imbalance, so i'm happy not to control for council and dwelling\n",
    "model = sm.WLS(y, sm.add_constant(X[[\"bed\"]]), weights=weights, hasconst=True)\n",
    "model.exog_names[:] = [\"constant\", \"bed\"]\n",
    "results = model.fit()"
   ]
  },
  {
   "cell_type": "code",
   "execution_count": null,
   "metadata": {},
   "outputs": [],
   "source": [
    "summary = results.summary()\n",
    "summary"
   ]
  },
  {
   "cell_type": "code",
   "execution_count": null,
   "metadata": {},
   "outputs": [],
   "source": [
    "print(summary.as_html())"
   ]
  },
  {
   "cell_type": "code",
   "execution_count": null,
   "metadata": {},
   "outputs": [],
   "source": [
    "# analysis of residuals"
   ]
  }
 ],
 "metadata": {
  "kernelspec": {
   "display_name": "real-estate-53Vs7j0A-py3.9",
   "language": "python",
   "name": "python3"
  },
  "language_info": {
   "codemirror_mode": {
    "name": "ipython",
    "version": 3
   },
   "file_extension": ".py",
   "mimetype": "text/x-python",
   "name": "python",
   "nbconvert_exporter": "python",
   "pygments_lexer": "ipython3",
   "version": "3.9.11"
  }
 },
 "nbformat": 4,
 "nbformat_minor": 2
}
